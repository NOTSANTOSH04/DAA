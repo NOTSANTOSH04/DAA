{
 "cells": [
  {
   "cell_type": "code",
   "execution_count": null,
   "id": "initial_id",
   "metadata": {
    "collapsed": true
   },
   "outputs": [],
   "source": [
    "import random\n",
    "import time\n",
    "import matplotlib.pyplot as plt\n",
    "\n",
    "# Define the sorting algorithms\n",
    "def bubble_sort(arr):\n",
    "    n = len(arr)\n",
    "    for i in range(n):\n",
    "        for j in range(0, n-i-1):\n",
    "            if arr[j] > arr[j+1]:\n",
    "                arr[j], arr[j+1] = arr[j+1], arr[j]\n",
    "\n",
    "def selection_sort(arr):\n",
    "    for i in range(len(arr)):\n",
    "        min_idx = i\n",
    "        for j in range(i+1, len(arr)):\n",
    "            if arr[min_idx] > arr[j]:\n",
    "                min_idx = j\n",
    "        arr[i], arr[min_idx] = arr[min_idx], arr[i]\n",
    "\n",
    "def insertion_sort(arr):\n",
    "    for i in range(1, len(arr)):\n",
    "        key = arr[i]\n",
    "        j = i-1\n",
    "        while j >= 0 and key < arr[j]:\n",
    "            arr[j + 1] = arr[j]\n",
    "            j -= 1\n",
    "        arr[j + 1] = key\n",
    "\n",
    "# Generate 1000 random integers between 1 and 10000\n",
    "arr = [random.randint(1, 10000) for _ in range(1000)]\n",
    "\n",
    "# Initialize lists to store the time taken by each algorithm\n",
    "bubble_sort_times = []\n",
    "selection_sort_times = []\n",
    "insertion_sort_times = []\n",
    "\n",
    "# Perform the sorting and measure the time taken\n",
    "start_time = time.time()\n",
    "bubble_sort(arr.copy())\n",
    "end_time = time.time()\n",
    "bubble_sort_times.append(end_time - start_time)\n",
    "\n",
    "start_time = time.time()\n",
    "selection_sort(arr.copy())\n",
    "end_time = time.time()\n",
    "selection_sort_times.append(end_time - start_time)\n",
    "\n",
    "start_time = time.time()\n",
    "insertion_sort(arr.copy())\n",
    "end_time = time.time()\n",
    "insertion_sort_times.append(end_time - start_time)\n",
    "\n",
    "# Plot the results\n",
    "plt.plot(['Bubble Sort', 'Selection Sort', 'Insertion Sort'], [bubble_sort_times[0], selection_sort_times[0], insertion_sort_times[0]])\n",
    "plt.ylabel('Time Taken (seconds)')\n",
    "plt.show()\n"
   ]
  },
  {
   "cell_type": "code",
   "outputs": [],
   "source": [
    "import heapq\n",
    "\n",
    "def merge_sorted_arrays(sorted_arrays):\n",
    "    min_heap = []\n",
    "    sorted_arrays_iters = [iter(x) for x in sorted_arrays]\n",
    "\n",
    "    # Put first element and its index in min heap for each array\n",
    "    for i, it in enumerate(sorted_arrays_iters):\n",
    "        first_element = next(it, None)\n",
    "        if first_element is not None:\n",
    "            heapq.heappush(min_heap, (first_element, i))\n",
    "\n",
    "    result = []\n",
    "\n",
    "    while min_heap:\n",
    "        smallest_entry, smallest_array_i = heapq.heappop(min_heap)\n",
    "        smallest_array_iter = sorted_arrays_iters[smallest_array_i]\n",
    "        result.append(smallest_entry)\n",
    "        next_element = next(smallest_array_iter, None)\n",
    "        if next_element is not None:\n",
    "            heapq.heappush(min_heap, (next_element, smallest_array_i))\n",
    "\n",
    "    return result\n",
    "\n",
    "# Test with your arrays\n",
    "arrays = [[10, 20, 30, 40], [15, 25, 35], [27, 29, 37, 48, 93], [32, 33]]\n",
    "print(merge_sorted_arrays(arrays))\n"
   ],
   "metadata": {
    "collapsed": false
   },
   "id": "67b7d6587f737d30"
  },
  {
   "cell_type": "code",
   "outputs": [],
   "source": [
    "import heapq\n",
    "\n",
    "def k_largest_elements(arr, k):\n",
    "    # Use heapq to create a min heap\n",
    "    min_heap = []\n",
    "    for num in arr:\n",
    "        heapq.heappush(min_heap, num)\n",
    "        if len(min_heap) > k:\n",
    "            heapq.heappop(min_heap)\n",
    "    return min_heap\n",
    "\n",
    "# Test with your array and value of k\n",
    "arr = [10, 20, 30, 40, 50, 60, 70, 80, 90, 100]\n",
    "k = 3\n",
    "print(k_largest_elements(arr, k))\n"
   ],
   "metadata": {
    "collapsed": false
   },
   "id": "175d80f22096cab0"
  },
  {
   "cell_type": "code",
   "outputs": [],
   "source": [
    "def max_activities(s , f ):\n",
    "    n = len(f)\n",
    "    print (\"The following activities are selected\")\n",
    " \n",
    "    # The first activity is always selected\n",
    "    i = 0\n",
    "    print (i),\n",
    " \n",
    "    # Consider rest of the activities\n",
    "    for j in range(n):\n",
    " \n",
    "        # If this activity has start time greater than\n",
    "        # or equal to the finish time of previously\n",
    "        # selected activity, then select it\n",
    "        if s[j] >= f[i]:\n",
    "            print (j),\n",
    "            i = j\n",
    " \n",
    "# Driver program to test above function\n",
    "s = [1 , 3 , 0 , 5 , 8 , 5]\n",
    "f = [2 , 4 , 6 , 7 , 9 , 9]\n",
    "max_activities(s , f)\n"
   ],
   "metadata": {
    "collapsed": false
   },
   "id": "bfb23384b05846d4"
  },
  {
   "cell_type": "code",
   "outputs": [],
   "source": [
    "def merge_intervals(intervals):\n",
    "    # Sort intervals based on start time\n",
    "    intervals.sort(key=lambda x: x[0])\n",
    "\n",
    "    merged = []\n",
    "    for interval in intervals:\n",
    "        # if the list of merged intervals is empty or if the current\n",
    "        # interval does not overlap with the previous, append it\n",
    "        if not merged or merged[-1][1] < interval[0]:\n",
    "            merged.append(interval)\n",
    "        else:\n",
    "            # otherwise, there is overlap, so we merge the current and previous\n",
    "            # intervals by updating the end of the previous interval\n",
    "            merged[-1][1] = max(merged[-1][1], interval[1])\n",
    "\n",
    "    return merged\n",
    "\n",
    "# Test with your intervals\n",
    "intervals = [(1,4), (2,5), (7,8), (6,9)]\n",
    "print(merge_intervals(intervals))\n"
   ],
   "metadata": {
    "collapsed": false
   },
   "id": "aa00e7f53b17d604"
  }
 ],
 "metadata": {
  "kernelspec": {
   "display_name": "Python 3",
   "language": "python",
   "name": "python3"
  },
  "language_info": {
   "codemirror_mode": {
    "name": "ipython",
    "version": 2
   },
   "file_extension": ".py",
   "mimetype": "text/x-python",
   "name": "python",
   "nbconvert_exporter": "python",
   "pygments_lexer": "ipython2",
   "version": "2.7.6"
  }
 },
 "nbformat": 4,
 "nbformat_minor": 5
}
