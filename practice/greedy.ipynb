{
 "cells": [
  {
   "cell_type": "markdown",
   "source": [
    "Fraction Knapsack Problem"
   ],
   "metadata": {
    "collapsed": false
   },
   "id": "1917c1d75ea26b7c"
  },
  {
   "cell_type": "code",
   "outputs": [
    {
     "name": "stdout",
     "output_type": "stream",
     "text": [
      "240.0\n"
     ]
    }
   ],
   "source": [
    "class item:\n",
    "    def __init__(self, value, weight):\n",
    "        self.value = value\n",
    "        self.weight = weight\n",
    "    \n",
    "class solution:\n",
    "    def knapsack(self, W, arr, n):\n",
    "        arr.sort(key = lambda x: x.value/x.weight, reverse = True)\n",
    "        currentWeight = 0\n",
    "        finalvalue = 0.0\n",
    "        for i in range(n):\n",
    "            if currentWeight + arr[i].weight <= W:\n",
    "                currentWeight += arr[i].weight\n",
    "                finalvalue += arr[i].value\n",
    "            else:\n",
    "                remain = W - currentWeight\n",
    "                finalvalue += arr[i].value / arr[i].weight * remain\n",
    "                break\n",
    "        return finalvalue\n",
    "\n",
    "arr = [item(60, 10), item(100, 20), item(120, 30)]\n",
    "W = 50\n",
    "n = len(arr)\n",
    "obj = solution()\n",
    "result = obj.knapsack(W, arr, n)\n",
    "print(result)"
   ],
   "metadata": {
    "collapsed": false,
    "ExecuteTime": {
     "end_time": "2024-04-09T17:03:58.548642800Z",
     "start_time": "2024-04-09T17:03:58.543728200Z"
    }
   },
   "id": "2b77bee22b3fdd5a",
   "execution_count": 5
  },
  {
   "cell_type": "code",
   "outputs": [
    {
     "name": "stdout",
     "output_type": "stream",
     "text": [
      "Number of machines required: 4\n",
      "Machine 1: [{'start_time': 0, 'finish_time': 3}, {'start_time': 4, 'finish_time': 8}]\n",
      "Machine 2: [{'start_time': 2, 'finish_time': 8}]\n",
      "Machine 3: [{'start_time': 6, 'finish_time': 9}]\n",
      "Machine 4: [{'start_time': 7, 'finish_time': 10}]\n"
     ]
    }
   ],
   "source": [
    "def task_schedule(tasks):\n",
    "    # Sort tasks based on start time\n",
    "    tasks.sort(key=lambda x: x['start_time'])\n",
    "    \n",
    "    # Initialize the number of machines and the schedule\n",
    "    m = 0\n",
    "    sch = {}\n",
    "    \n",
    "    # While there are tasks remaining\n",
    "    while tasks:\n",
    "        # Remove the task with the smallest start time\n",
    "        task = tasks.pop(0)\n",
    "        \n",
    "        # Find a machine with no conflicting tasks\n",
    "        assigned = False\n",
    "        for machine in sch:\n",
    "            if all(task['start_time'] >= t['finish_time'] or task['finish_time'] <= t['start_time'] for t in sch[machine]):\n",
    "                sch[machine].append(task)\n",
    "                assigned = True\n",
    "                break\n",
    "        \n",
    "        # If no machine is found, add a new machine\n",
    "        if not assigned:\n",
    "            m += 1\n",
    "            sch[m] = [task]\n",
    "    \n",
    "    # Return the number of machines and the schedule\n",
    "    return m, sch\n",
    "\n",
    "# Example usage:\n",
    "tasks = [\n",
    "    {'start_time': 0, 'finish_time': 3},\n",
    "    {'start_time': 4, 'finish_time': 8},\n",
    "    {'start_time': 6, 'finish_time': 9},\n",
    "    {'start_time': 2, 'finish_time': 8},\n",
    "    {'start_time': 7, 'finish_time': 10},\n",
    "]\n",
    "\n",
    "num_machines, schedule = task_schedule(tasks)\n",
    "print(f\"Number of machines required: {num_machines}\")\n",
    "for machine, tasks in schedule.items():\n",
    "    print(f\"Machine {machine}: {tasks}\")\n"
   ],
   "metadata": {
    "collapsed": false,
    "ExecuteTime": {
     "end_time": "2024-04-09T17:03:58.577523400Z",
     "start_time": "2024-04-09T17:03:58.551645400Z"
    }
   },
   "id": "f606e63da371764d",
   "execution_count": 6
  },
  {
   "cell_type": "code",
   "outputs": [
    {
     "name": "stdout",
     "output_type": "stream",
     "text": [
      "Number of CPUs needed: 4\n",
      "CPU 1: [(0, 3), (4, 8)]\n",
      "CPU 2: [(2, 8)]\n",
      "CPU 3: [(6, 9)]\n",
      "CPU 4: [(7, 10)]\n"
     ]
    }
   ],
   "source": [
    "def schedule_jobs(jobs):\n",
    "    # Sort the jobs by their start time\n",
    "    sorted_jobs = sorted(jobs, key=lambda x: x[0])\n",
    "    \n",
    "    # Initialize the list of CPUs, each CPU is a list of jobs\n",
    "    cpus = []\n",
    "\n",
    "    for job in sorted_jobs:\n",
    "        # Try to find a CPU that can take the job\n",
    "        placed = False\n",
    "        for cpu in cpus:\n",
    "            if cpu[-1][1] <= job[0]:  # No overlap with the last job in the CPU\n",
    "                cpu.append(job)\n",
    "                placed = True\n",
    "                break\n",
    "        \n",
    "        # If no CPU can take the job, add a new CPU\n",
    "        if not placed:\n",
    "            cpus.append([job])\n",
    "\n",
    "    # The number of CPUs needed is the length of the cpus list\n",
    "    return len(cpus), cpus\n",
    "\n",
    "# Example job list with start and end times\n",
    "jobs = [(0, 3), (4, 8), (6, 9), (2, 8), (7, 10)]\n",
    "\n",
    "# Get the number of CPUs needed and the job schedule\n",
    "num_cpus, job_schedule = schedule_jobs(jobs)\n",
    "print(f\"Number of CPUs needed: {num_cpus}\")\n",
    "for i, cpu in enumerate(job_schedule):\n",
    "    print(f\"CPU {i+1}: {cpu}\")\n"
   ],
   "metadata": {
    "collapsed": false,
    "ExecuteTime": {
     "end_time": "2024-04-09T17:03:58.578533400Z",
     "start_time": "2024-04-09T17:03:58.560368Z"
    }
   },
   "id": "70677e262f233f62",
   "execution_count": 7
  },
  {
   "cell_type": "code",
   "outputs": [
    {
     "name": "stdout",
     "output_type": "stream",
     "text": [
      "Maximum profit: 300\n",
      "Scheduled jobs: [('J4', 2, 40), ('J1', 2, 60), ('J3', 3, 200)]\n"
     ]
    }
   ],
   "source": [
    "def jobScheduling(jobs):\n",
    "    # Sort jobs by decreasing order of profit\n",
    "    jobs.sort(key=lambda x: x[2], reverse=True)\n",
    "    \n",
    "    # Find the maximum deadline\n",
    "    max_deadline = max(job[1] for job in jobs)\n",
    "    \n",
    "    # Initialize schedule array with None values\n",
    "    schedule = [None] * (max_deadline + 1)\n",
    "    \n",
    "    total_profit = 0\n",
    "    for job in jobs:\n",
    "        deadline, profit = job[1], job[2]\n",
    "        # Find the latest available slot before the deadline\n",
    "        for i in range(deadline, 0, -1):\n",
    "            if schedule[i] is None:\n",
    "                schedule[i] = job\n",
    "                total_profit += profit\n",
    "                break\n",
    "    \n",
    "    return total_profit, [job for job in schedule if job is not None]\n",
    "\n",
    "# Example usage:\n",
    "jobs = [(\"J1\", 2, 60), (\"J2\", 1, 10), (\"J3\", 3, 200), (\"J4\", 2, 40)]\n",
    "max_profit, schedule = jobScheduling(jobs)\n",
    "print(\"Maximum profit:\", max_profit)\n",
    "print(\"Scheduled jobs:\", schedule)\n"
   ],
   "metadata": {
    "collapsed": false,
    "ExecuteTime": {
     "end_time": "2024-04-11T14:58:05.297553800Z",
     "start_time": "2024-04-11T14:58:05.294048Z"
    }
   },
   "id": "ed94720d96df4547",
   "execution_count": 6
  },
  {
   "cell_type": "code",
   "outputs": [
    {
     "name": "stdout",
     "output_type": "stream",
     "text": [
      "Minimum number of coins required: 3\n"
     ]
    }
   ],
   "source": [
    "def minCoins(coins, amount):\n",
    "    # Create a list to store minimum number of coins required for each amount from 0 to amount\n",
    "    dp = [float('inf')] * (amount + 1)\n",
    "    dp[0] = 0  # Base case: 0 coins required to make 0 amount\n",
    "    \n",
    "    for i in range(1, amount + 1):\n",
    "        for coin in coins:\n",
    "            if coin <= i:\n",
    "                dp[i] = min(dp[i], dp[i - coin] + 1)\n",
    "\n",
    "    return dp[amount] if dp[amount] != float('inf') else -1\n",
    "\n",
    "# Example usage:\n",
    "coins = [1, 2, 5]\n",
    "amount = 11\n",
    "print(\"Minimum number of coins required:\", minCoins(coins, amount))\n"
   ],
   "metadata": {
    "collapsed": false,
    "ExecuteTime": {
     "end_time": "2024-04-11T15:12:25.181550600Z",
     "start_time": "2024-04-11T15:12:25.166536900Z"
    }
   },
   "id": "89960c0716c5abec",
   "execution_count": 7
  },
  {
   "cell_type": "code",
   "outputs": [],
   "source": [
    "# Huffman Coding in python\n",
    "\n",
    "string = 'BCAADDDCCACACAC'\n",
    "\n",
    "\n",
    "# Creating tree nodes\n",
    "class NodeTree(object):\n",
    "\n",
    "    def __init__(self, left=None, right=None):\n",
    "        self.left = left\n",
    "        self.right = right\n",
    "\n",
    "    def children(self):\n",
    "        return (self.left, self.right)\n",
    "\n",
    "    def nodes(self):\n",
    "        return (self.left, self.right)\n",
    "\n",
    "    def __str__(self):\n",
    "        return '%s_%s' % (self.left, self.right)\n",
    "\n",
    "\n",
    "# Main function implementing huffman coding\n",
    "def huffman_code_tree(node, left=True, binString=''):\n",
    "    if type(node) is str:\n",
    "        return {node: binString}\n",
    "    (l, r) = node.children()\n",
    "    d = dict()\n",
    "    d.update(huffman_code_tree(l, True, binString + '0'))\n",
    "    d.update(huffman_code_tree(r, False, binString + '1'))\n",
    "    return d\n",
    "\n",
    "\n",
    "# Calculating frequency\n",
    "freq = {}\n",
    "for c in string:\n",
    "    if c in freq:\n",
    "        freq[c] += 1\n",
    "    else:\n",
    "        freq[c] = 1\n",
    "\n",
    "freq = sorted(freq.items(), key=lambda x: x[1], reverse=True)\n",
    "\n",
    "nodes = freq\n",
    "\n",
    "while len(nodes) > 1:\n",
    "    (key1, c1) = nodes[-1]\n",
    "    (key2, c2) = nodes[-2]\n",
    "    nodes = nodes[:-2]\n",
    "    node = NodeTree(key1, key2)\n",
    "    nodes.append((node, c1 + c2))\n",
    "\n",
    "    nodes = sorted(nodes, key=lambda x: x[1], reverse=True)\n",
    "\n",
    "huffmanCode = huffman_code_tree(nodes[0][0])\n",
    "\n",
    "print(' Char | Huffman code ')\n",
    "print('----------------------')\n",
    "for (char, frequency) in freq:\n",
    "    print(' %-4r |%12s' % (char, huffmanCode[char]))"
   ],
   "metadata": {
    "collapsed": false
   },
   "id": "fc0a041009749429"
  },
  {
   "cell_type": "code",
   "outputs": [
    {
     "name": "stdout",
     "output_type": "stream",
     "text": [
      "Maximum value that can be obtained: 220\n"
     ]
    }
   ],
   "source": [
    "def knapSack(capacity, weights, values, n):\n",
    "    # Creating a table to store the maximum value that can be obtained with certain capacity  0/1\n",
    "    dp = [[0 for _ in range(capacity + 1)] for _ in range(n + 1)]\n",
    "\n",
    "    # Building dp table in bottom-up manner\n",
    "    for i in range(n + 1):\n",
    "        for w in range(capacity + 1):\n",
    "            if i == 0 or w == 0:\n",
    "                dp[i][w] = 0\n",
    "            elif weights[i - 1] <= w:\n",
    "                dp[i][w] = max(values[i - 1] + dp[i - 1][w - weights[i - 1]], dp[i - 1][w])\n",
    "            else:\n",
    "                dp[i][w] = dp[i - 1][w]\n",
    "\n",
    "    # Maximum value will be at dp[n][capacity]\n",
    "    return dp[n][capacity]\n",
    "\n",
    "\n",
    "# Example usage:\n",
    "values = [60, 100, 120]\n",
    "weights = [10, 20, 30]\n",
    "capacity = 50\n",
    "n = len(values)\n",
    "print(\"Maximum value that can be obtained:\", knapSack(capacity, weights, values, n))\n"
   ],
   "metadata": {
    "collapsed": false,
    "ExecuteTime": {
     "end_time": "2024-04-11T15:55:31.637248700Z",
     "start_time": "2024-04-11T15:55:31.597164200Z"
    }
   },
   "id": "68c557e90da3fda9",
   "execution_count": 8
  },
  {
   "cell_type": "code",
   "outputs": [],
   "source": [],
   "metadata": {
    "collapsed": false
   },
   "id": "68e683d25c969796"
  }
 ],
 "metadata": {
  "kernelspec": {
   "display_name": "Python 3",
   "language": "python",
   "name": "python3"
  },
  "language_info": {
   "codemirror_mode": {
    "name": "ipython",
    "version": 2
   },
   "file_extension": ".py",
   "mimetype": "text/x-python",
   "name": "python",
   "nbconvert_exporter": "python",
   "pygments_lexer": "ipython2",
   "version": "2.7.6"
  }
 },
 "nbformat": 4,
 "nbformat_minor": 5
}
